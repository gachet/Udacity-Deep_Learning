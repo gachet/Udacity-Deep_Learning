{
 "cells": [
  {
   "cell_type": "markdown",
   "metadata": {
    "colab_type": "text",
    "id": "D7tqLMoKF6uq"
   },
   "source": [
    "Deep Learning\n",
    "=============\n",
    "\n",
    "Assignment 5\n",
    "------------\n",
    "\n",
    "The goal of this assignment is to train a Word2Vec skip-gram model over [Text8](http://mattmahoney.net/dc/textdata) data."
   ]
  },
  {
   "cell_type": "code",
   "execution_count": 1,
   "metadata": {
    "cellView": "both",
    "colab": {
     "autoexec": {
      "startup": false,
      "wait_interval": 0
     }
    },
    "colab_type": "code",
    "collapsed": true,
    "id": "0K1ZyLn04QZf"
   },
   "outputs": [],
   "source": [
    "# These are all the modules we'll be using later. Make sure you can import them\n",
    "# before proceeding further.\n",
    "%matplotlib inline\n",
    "from __future__ import print_function\n",
    "import collections\n",
    "import math\n",
    "import numpy as np\n",
    "import os\n",
    "import random\n",
    "import tensorflow as tf\n",
    "import zipfile\n",
    "from matplotlib import pylab\n",
    "from six.moves import range\n",
    "from six.moves.urllib.request import urlretrieve\n",
    "from sklearn.manifold import TSNE"
   ]
  },
  {
   "cell_type": "markdown",
   "metadata": {
    "colab_type": "text",
    "id": "aCjPJE944bkV"
   },
   "source": [
    "Download the data from the source website if necessary."
   ]
  },
  {
   "cell_type": "code",
   "execution_count": 2,
   "metadata": {
    "cellView": "both",
    "colab": {
     "autoexec": {
      "startup": false,
      "wait_interval": 0
     },
     "output_extras": [
      {
       "item_id": 1
      }
     ]
    },
    "colab_type": "code",
    "collapsed": false,
    "executionInfo": {
     "elapsed": 14640,
     "status": "ok",
     "timestamp": 1445964482948,
     "user": {
      "color": "#1FA15D",
      "displayName": "Vincent Vanhoucke",
      "isAnonymous": false,
      "isMe": true,
      "permissionId": "05076109866853157986",
      "photoUrl": "//lh6.googleusercontent.com/-cCJa7dTDcgQ/AAAAAAAAAAI/AAAAAAAACgw/r2EZ_8oYer4/s50-c-k-no/photo.jpg",
      "sessionId": "2f1ffade4c9f20de",
      "userId": "102167687554210253930"
     },
     "user_tz": 420
    },
    "id": "RJ-o3UBUFtCw",
    "outputId": "c4ec222c-80b5-4298-e635-93ca9f79c3b7"
   },
   "outputs": [
    {
     "name": "stdout",
     "output_type": "stream",
     "text": [
      "Found and verified text8.zip\n"
     ]
    }
   ],
   "source": [
    "url = 'http://mattmahoney.net/dc/'\n",
    "\n",
    "def maybe_download(filename, expected_bytes):\n",
    "  \"\"\"Download a file if not present, and make sure it's the right size.\"\"\"\n",
    "  if not os.path.exists(filename):\n",
    "    filename, _ = urlretrieve(url + filename, filename)\n",
    "  statinfo = os.stat(filename)\n",
    "  if statinfo.st_size == expected_bytes:\n",
    "    print('Found and verified %s' % filename)\n",
    "  else:\n",
    "    print(statinfo.st_size)\n",
    "    raise Exception(\n",
    "      'Failed to verify ' + filename + '. Can you get to it with a browser?')\n",
    "  return filename\n",
    "\n",
    "filename = maybe_download('text8.zip', 31344016)"
   ]
  },
  {
   "cell_type": "markdown",
   "metadata": {
    "colab_type": "text",
    "id": "Zqz3XiqI4mZT"
   },
   "source": [
    "Read the data into a string."
   ]
  },
  {
   "cell_type": "code",
   "execution_count": 3,
   "metadata": {
    "cellView": "both",
    "colab": {
     "autoexec": {
      "startup": false,
      "wait_interval": 0
     },
     "output_extras": [
      {
       "item_id": 1
      }
     ]
    },
    "colab_type": "code",
    "collapsed": false,
    "executionInfo": {
     "elapsed": 28844,
     "status": "ok",
     "timestamp": 1445964497165,
     "user": {
      "color": "#1FA15D",
      "displayName": "Vincent Vanhoucke",
      "isAnonymous": false,
      "isMe": true,
      "permissionId": "05076109866853157986",
      "photoUrl": "//lh6.googleusercontent.com/-cCJa7dTDcgQ/AAAAAAAAAAI/AAAAAAAACgw/r2EZ_8oYer4/s50-c-k-no/photo.jpg",
      "sessionId": "2f1ffade4c9f20de",
      "userId": "102167687554210253930"
     },
     "user_tz": 420
    },
    "id": "Mvf09fjugFU_",
    "outputId": "e3a928b4-1645-4fe8-be17-fcf47de5716d"
   },
   "outputs": [
    {
     "name": "stdout",
     "output_type": "stream",
     "text": [
      "Data size 17005207\n"
     ]
    }
   ],
   "source": [
    "def read_data(filename):\n",
    "  \"\"\"Extract the first file enclosed in a zip file as a list of words\"\"\"\n",
    "  with zipfile.ZipFile(filename) as f:\n",
    "    data = tf.compat.as_str(f.read(f.namelist()[0])).split()\n",
    "  return data\n",
    "  \n",
    "words = read_data(filename)\n",
    "print('Data size %d' % len(words))"
   ]
  },
  {
   "cell_type": "markdown",
   "metadata": {
    "colab_type": "text",
    "id": "Zdw6i4F8glpp"
   },
   "source": [
    "Build the dictionary and replace rare words with UNK token."
   ]
  },
  {
   "cell_type": "code",
   "execution_count": 4,
   "metadata": {
    "cellView": "both",
    "colab": {
     "autoexec": {
      "startup": false,
      "wait_interval": 0
     },
     "output_extras": [
      {
       "item_id": 1
      }
     ]
    },
    "colab_type": "code",
    "collapsed": false,
    "executionInfo": {
     "elapsed": 28849,
     "status": "ok",
     "timestamp": 1445964497178,
     "user": {
      "color": "#1FA15D",
      "displayName": "Vincent Vanhoucke",
      "isAnonymous": false,
      "isMe": true,
      "permissionId": "05076109866853157986",
      "photoUrl": "//lh6.googleusercontent.com/-cCJa7dTDcgQ/AAAAAAAAAAI/AAAAAAAACgw/r2EZ_8oYer4/s50-c-k-no/photo.jpg",
      "sessionId": "2f1ffade4c9f20de",
      "userId": "102167687554210253930"
     },
     "user_tz": 420
    },
    "id": "gAL1EECXeZsD",
    "outputId": "3fb4ecd1-df67-44b6-a2dc-2291730970b2"
   },
   "outputs": [
    {
     "name": "stdout",
     "output_type": "stream",
     "text": [
      "Most common words (+UNK) [['UNK', 418391], ('the', 1061396), ('of', 593677), ('and', 416629), ('one', 411764)]\n",
      "Sample data [5239, 3084, 12, 6, 195, 2, 3137, 46, 59, 156]\n"
     ]
    }
   ],
   "source": [
    "vocabulary_size = 50000\n",
    "\n",
    "def build_dataset(words):\n",
    "  count = [['UNK', -1]]\n",
    "  count.extend(collections.Counter(words).most_common(vocabulary_size - 1))\n",
    "  dictionary = dict()\n",
    "  for word, _ in count:\n",
    "    dictionary[word] = len(dictionary)\n",
    "  data = list()\n",
    "  unk_count = 0\n",
    "  for word in words:\n",
    "    if word in dictionary:\n",
    "      index = dictionary[word]\n",
    "    else:\n",
    "      index = 0  # dictionary['UNK']\n",
    "      unk_count = unk_count + 1\n",
    "    data.append(index)\n",
    "  count[0][1] = unk_count\n",
    "  reverse_dictionary = dict(zip(dictionary.values(), dictionary.keys())) \n",
    "  return data, count, dictionary, reverse_dictionary\n",
    "\n",
    "data, count, dictionary, reverse_dictionary = build_dataset(words)\n",
    "print('Most common words (+UNK)', count[:5])\n",
    "print('Sample data', data[:10])\n",
    "del words  # Hint to reduce memory."
   ]
  },
  {
   "cell_type": "markdown",
   "metadata": {
    "colab_type": "text",
    "id": "lFwoyygOmWsL"
   },
   "source": [
    "Function to generate a training batch for the skip-gram model."
   ]
  },
  {
   "cell_type": "code",
   "execution_count": 5,
   "metadata": {
    "cellView": "both",
    "colab": {
     "autoexec": {
      "startup": false,
      "wait_interval": 0
     },
     "output_extras": [
      {
       "item_id": 1
      }
     ]
    },
    "colab_type": "code",
    "collapsed": false,
    "executionInfo": {
     "elapsed": 113,
     "status": "ok",
     "timestamp": 1445964901989,
     "user": {
      "color": "#1FA15D",
      "displayName": "Vincent Vanhoucke",
      "isAnonymous": false,
      "isMe": true,
      "permissionId": "05076109866853157986",
      "photoUrl": "//lh6.googleusercontent.com/-cCJa7dTDcgQ/AAAAAAAAAAI/AAAAAAAACgw/r2EZ_8oYer4/s50-c-k-no/photo.jpg",
      "sessionId": "2f1ffade4c9f20de",
      "userId": "102167687554210253930"
     },
     "user_tz": 420
    },
    "id": "w9APjA-zmfjV",
    "outputId": "67cccb02-cdaf-4e47-d489-43bcc8d57bb8"
   },
   "outputs": [
    {
     "name": "stdout",
     "output_type": "stream",
     "text": [
      "data: ['anarchism', 'originated', 'as', 'a', 'term', 'of', 'abuse', 'first']\n",
      "\n",
      "with num_skips = 2 and skip_window = 1:\n",
      "    batch: ['originated', 'originated', 'as', 'as', 'a', 'a', 'term', 'term']\n",
      "    labels: ['as', 'anarchism', 'originated', 'a', 'as', 'term', 'of', 'a']\n",
      "\n",
      "with num_skips = 4 and skip_window = 2:\n",
      "    batch: ['as', 'as', 'as', 'as', 'a', 'a', 'a', 'a']\n",
      "    labels: ['term', 'originated', 'anarchism', 'a', 'term', 'of', 'as', 'originated']\n"
     ]
    }
   ],
   "source": [
    "data_index = 0\n",
    "\n",
    "def generate_batch(batch_size, num_skips, skip_window):\n",
    "  global data_index\n",
    "  assert batch_size % num_skips == 0\n",
    "  assert num_skips <= 2 * skip_window\n",
    "  batch = np.ndarray(shape=(batch_size), dtype=np.int32)\n",
    "  labels = np.ndarray(shape=(batch_size, 1), dtype=np.int32)\n",
    "  span = 2 * skip_window + 1 # [ skip_window target skip_window ]\n",
    "  buffer = collections.deque(maxlen=span)\n",
    "  for _ in range(span):\n",
    "    buffer.append(data[data_index])\n",
    "    data_index = (data_index + 1) % len(data)\n",
    "  for i in range(batch_size // num_skips):\n",
    "    target = skip_window  # target label at the center of the buffer\n",
    "    targets_to_avoid = [ skip_window ]\n",
    "    for j in range(num_skips):\n",
    "      while target in targets_to_avoid:\n",
    "        target = random.randint(0, span - 1)\n",
    "      targets_to_avoid.append(target)\n",
    "      batch[i * num_skips + j] = buffer[skip_window]\n",
    "      labels[i * num_skips + j, 0] = buffer[target]\n",
    "    buffer.append(data[data_index])\n",
    "    data_index = (data_index + 1) % len(data)\n",
    "  return batch, labels\n",
    "\n",
    "print('data:', [reverse_dictionary[di] for di in data[:8]])\n",
    "\n",
    "for num_skips, skip_window in [(2, 1), (4, 2)]:\n",
    "    data_index = 0\n",
    "    batch, labels = generate_batch(batch_size=8, num_skips=num_skips, skip_window=skip_window)\n",
    "    print('\\nwith num_skips = %d and skip_window = %d:' % (num_skips, skip_window))\n",
    "    print('    batch:', [reverse_dictionary[bi] for bi in batch])\n",
    "    print('    labels:', [reverse_dictionary[li] for li in labels.reshape(8)])"
   ]
  },
  {
   "cell_type": "markdown",
   "metadata": {
    "colab_type": "text",
    "id": "Ofd1MbBuwiva"
   },
   "source": [
    "Train a skip-gram model."
   ]
  },
  {
   "cell_type": "code",
   "execution_count": 6,
   "metadata": {
    "cellView": "both",
    "colab": {
     "autoexec": {
      "startup": false,
      "wait_interval": 0
     }
    },
    "colab_type": "code",
    "collapsed": true,
    "id": "8pQKsV4Vwlzy"
   },
   "outputs": [],
   "source": [
    "batch_size = 128\n",
    "embedding_size = 128 # Dimension of the embedding vector.\n",
    "skip_window = 1 # How many words to consider left and right.\n",
    "num_skips = 2 # How many times to reuse an input to generate a label.\n",
    "# We pick a random validation set to sample nearest neighbors. here we limit the\n",
    "# validation samples to the words that have a low numeric ID, which by\n",
    "# construction are also the most frequent. \n",
    "valid_size = 16 # Random set of words to evaluate similarity on.\n",
    "valid_window = 100 # Only pick dev samples in the head of the distribution.\n",
    "valid_examples = np.array(random.sample(range(valid_window), valid_size))\n",
    "num_sampled = 64 # Number of negative examples to sample.\n",
    "\n",
    "graph = tf.Graph()\n",
    "\n",
    "with graph.as_default(), tf.device('/cpu:0'):\n",
    "\n",
    "  # Input data.\n",
    "  train_dataset = tf.placeholder(tf.int32, shape=[batch_size])\n",
    "  train_labels = tf.placeholder(tf.int32, shape=[batch_size, 1])\n",
    "  valid_dataset = tf.constant(valid_examples, dtype=tf.int32)\n",
    "  \n",
    "  # Variables.\n",
    "  embeddings = tf.Variable(\n",
    "    tf.random_uniform([vocabulary_size, embedding_size], -1.0, 1.0))\n",
    "  softmax_weights = tf.Variable(\n",
    "    tf.truncated_normal([vocabulary_size, embedding_size],\n",
    "                         stddev=1.0 / math.sqrt(embedding_size)))\n",
    "  softmax_biases = tf.Variable(tf.zeros([vocabulary_size]))\n",
    "  \n",
    "  # Model.\n",
    "  # Look up embeddings for inputs.\n",
    "  embed = tf.nn.embedding_lookup(embeddings, train_dataset)\n",
    "  # Compute the softmax loss, using a sample of the negative labels each time.\n",
    "  loss = tf.reduce_mean(\n",
    "    tf.nn.sampled_softmax_loss(weights=softmax_weights, biases=softmax_biases, inputs=embed,\n",
    "                               labels=train_labels, num_sampled=num_sampled, num_classes=vocabulary_size))\n",
    "\n",
    "  # Optimizer.\n",
    "  # Note: The optimizer will optimize the softmax_weights AND the embeddings.\n",
    "  # This is because the embeddings are defined as a variable quantity and the\n",
    "  # optimizer's `minimize` method will by default modify all variable quantities \n",
    "  # that contribute to the tensor it is passed.\n",
    "  # See docs on `tf.train.Optimizer.minimize()` for more details.\n",
    "  optimizer = tf.train.AdagradOptimizer(1.0).minimize(loss)\n",
    "  \n",
    "  # Compute the similarity between minibatch examples and all embeddings.\n",
    "  # We use the cosine distance:\n",
    "  norm = tf.sqrt(tf.reduce_sum(tf.square(embeddings), 1, keep_dims=True))\n",
    "  normalized_embeddings = embeddings / norm\n",
    "  valid_embeddings = tf.nn.embedding_lookup(\n",
    "    normalized_embeddings, valid_dataset)\n",
    "  similarity = tf.matmul(valid_embeddings, tf.transpose(normalized_embeddings))"
   ]
  },
  {
   "cell_type": "code",
   "execution_count": 7,
   "metadata": {
    "cellView": "both",
    "colab": {
     "autoexec": {
      "startup": false,
      "wait_interval": 0
     },
     "output_extras": [
      {
       "item_id": 23
      },
      {
       "item_id": 48
      },
      {
       "item_id": 61
      }
     ]
    },
    "colab_type": "code",
    "collapsed": false,
    "executionInfo": {
     "elapsed": 436189,
     "status": "ok",
     "timestamp": 1445965429787,
     "user": {
      "color": "#1FA15D",
      "displayName": "Vincent Vanhoucke",
      "isAnonymous": false,
      "isMe": true,
      "permissionId": "05076109866853157986",
      "photoUrl": "//lh6.googleusercontent.com/-cCJa7dTDcgQ/AAAAAAAAAAI/AAAAAAAACgw/r2EZ_8oYer4/s50-c-k-no/photo.jpg",
      "sessionId": "2f1ffade4c9f20de",
      "userId": "102167687554210253930"
     },
     "user_tz": 420
    },
    "id": "1bQFGceBxrWW",
    "outputId": "5ebd6d9a-33c6-4bcd-bf6d-252b0b6055e4"
   },
   "outputs": [
    {
     "name": "stdout",
     "output_type": "stream",
     "text": [
      "Initialized\n",
      "Average loss at step 0: 8.301205\n",
      "Nearest to his: villainous, aegis, fertilizer, sortavala, esque, crypto, chivalrous, geoff,\n",
      "Nearest to time: jacobian, dewey, undertook, tissot, unincorporated, southside, coliseum, maniac,\n",
      "Nearest to zero: owner, strenuously, pleasant, networking, liber, mestizos, insertion, zarqawi,\n",
      "Nearest to american: brunel, allergies, citro, irishman, yetzirah, antigonus, gcl, universalism,\n",
      "Nearest to some: volleyball, maxine, flying, voicing, shabazz, usher, guglielmo, twisted,\n",
      "Nearest to two: echoed, publically, winslow, syncretism, coin, vet, coups, specially,\n",
      "Nearest to or: pseudoscientific, jacobites, adapts, weizmann, cordoba, compliance, champagne, scrap,\n",
      "Nearest to so: disgruntled, nn, owens, trout, banana, detonated, segment, bigg,\n",
      "Nearest to were: puppet, apcs, futurians, induction, hbo, heizei, robbins, ecclesiastes,\n",
      "Nearest to for: materially, regenerated, pence, problems, less, applet, tas, cnr,\n",
      "Nearest to been: huntingdon, favorably, physical, valence, whiz, pollen, lemnos, predicament,\n",
      "Nearest to not: transformative, dict, gathering, mpd, procter, wrongly, decides, body,\n",
      "Nearest to by: append, ferocity, abrahams, pnv, remind, wis, take, thr,\n",
      "Nearest to when: spearhead, tradeoff, diminish, nnrot, rcs, legitimately, dispelled, anticonvulsant,\n",
      "Nearest to only: fy, glaucus, diverging, contemporary, athenian, cb, structures, futurist,\n",
      "Nearest to often: uss, alliteration, georgetown, reese, tasking, trondheim, seperate, tort,\n",
      "Average loss at step 2000: 4.369274\n",
      "Average loss at step 4000: 3.865561\n",
      "Average loss at step 6000: 3.790971\n",
      "Average loss at step 8000: 3.690712\n",
      "Average loss at step 10000: 3.613438\n",
      "Nearest to his: their, the, its, her, s, oceanographic, montezuma, this,\n",
      "Nearest to time: coliseum, jamie, dewey, maniac, doomsday, submarines, southside, wardens,\n",
      "Nearest to zero: nine, five, six, eight, seven, four, three, two,\n",
      "Nearest to american: brunel, gcl, french, vincenzo, engulfed, british, antigonus, ciudad,\n",
      "Nearest to some: many, flying, gallen, natural, batted, cellar, chuan, interchangeably,\n",
      "Nearest to two: three, four, five, seven, six, eight, nine, one,\n",
      "Nearest to or: and, adapts, politicians, certain, disfigured, petite, compounds, tempered,\n",
      "Nearest to so: christiane, luzon, satirists, mis, tansley, vogue, startling, binary,\n",
      "Nearest to were: are, have, was, had, chopstick, being, be, accidental,\n",
      "Nearest to for: in, of, from, vanzetti, against, and, storming, meteorological,\n",
      "Nearest to been: be, was, mahal, physical, conjuring, pathway, splendor, predicament,\n",
      "Nearest to not: it, egalitarianism, weiss, they, wrongly, simply, also, revoke,\n",
      "Nearest to by: was, gilbertese, in, kaunda, from, cretans, and, with,\n",
      "Nearest to when: gunboats, tan, confocal, forecasting, spearhead, berio, dispelled, piccard,\n",
      "Nearest to only: glaucus, blvd, fy, referees, substances, jacobites, widespread, will,\n",
      "Nearest to often: there, georgetown, typically, that, sometimes, coup, micro, gauntlet,\n",
      "Average loss at step 12000: 3.606830\n",
      "Average loss at step 14000: 3.569779\n",
      "Average loss at step 16000: 3.408230\n",
      "Average loss at step 18000: 3.456867\n",
      "Average loss at step 20000: 3.539077\n",
      "Nearest to his: their, her, its, the, numbered, this, savannah, oceanographic,\n",
      "Nearest to time: year, coliseum, esterification, cardiovascular, way, mahmoud, dewey, jamie,\n",
      "Nearest to zero: five, three, four, six, eight, seven, nine, two,\n",
      "Nearest to american: french, british, canadian, gcl, cosmogony, english, carboxylic, australian,\n",
      "Nearest to some: many, these, all, several, fortifications, batted, other, their,\n",
      "Nearest to two: three, five, four, six, seven, one, eight, zero,\n",
      "Nearest to or: and, than, with, gardens, tyler, vanzetti, launches, achille,\n",
      "Nearest to so: tansley, christiane, luzon, mis, primarily, jr, hellenistic, hellboy,\n",
      "Nearest to were: are, was, had, have, is, chopstick, being, been,\n",
      "Nearest to for: of, chogm, psychologically, by, at, in, from, after,\n",
      "Nearest to been: be, become, were, was, had, avec, conjuring, pathway,\n",
      "Nearest to not: usually, it, egalitarianism, simply, weiss, never, also, they,\n",
      "Nearest to by: with, be, into, gilbertese, for, were, kaunda, was,\n",
      "Nearest to when: where, gunboats, buff, if, tan, that, while, vortex,\n",
      "Nearest to only: glaucus, simply, ddt, almoravids, subsequently, previously, it, not,\n",
      "Nearest to often: there, typically, sometimes, generally, which, also, georgetown, it,\n",
      "Average loss at step 22000: 3.504634\n",
      "Average loss at step 24000: 3.489763\n",
      "Average loss at step 26000: 3.479382\n",
      "Average loss at step 28000: 3.481423\n",
      "Average loss at step 30000: 3.506620\n",
      "Nearest to his: their, her, its, the, my, s, some, savannah,\n",
      "Nearest to time: year, southside, mahmoud, kets, alchemy, way, freed, jamie,\n",
      "Nearest to zero: five, eight, four, six, seven, three, nine, two,\n",
      "Nearest to american: canadian, french, australian, british, english, highwayman, vincenzo, gcl,\n",
      "Nearest to some: many, these, all, several, their, the, those, any,\n",
      "Nearest to two: four, three, one, five, seven, six, eight, zero,\n",
      "Nearest to or: and, var, than, but, achille, vanzetti, overdoses, geneticist,\n",
      "Nearest to so: startling, tansley, hellenistic, primarily, christiane, luzon, mis, generally,\n",
      "Nearest to were: are, was, have, had, been, revolver, by, be,\n",
      "Nearest to for: against, of, scrutiny, including, meteorological, psychologically, after, percussive,\n",
      "Nearest to been: become, was, be, were, avec, conjuring, framers, had,\n",
      "Nearest to not: they, still, there, usually, it, never, simply, also,\n",
      "Nearest to by: were, with, from, under, in, was, as, punctuation,\n",
      "Nearest to when: where, if, while, after, before, was, though, during,\n",
      "Nearest to only: subsequently, ddt, simply, glaucus, bilirubin, referees, previously, given,\n",
      "Nearest to often: sometimes, there, generally, typically, still, also, usually, commonly,\n",
      "Average loss at step 32000: 3.501965\n",
      "Average loss at step 34000: 3.496070\n",
      "Average loss at step 36000: 3.454633\n",
      "Average loss at step 38000: 3.303294\n",
      "Average loss at step 40000: 3.430624\n",
      "Nearest to his: their, her, its, the, my, your, s, hectic,\n",
      "Nearest to time: year, mahmoud, way, period, carrera, freed, lawmaking, jamie,\n",
      "Nearest to zero: five, nine, seven, eight, six, three, four, two,\n",
      "Nearest to american: australian, highwayman, canadian, british, french, japanese, russian, english,\n",
      "Nearest to some: many, these, several, any, those, their, certain, heliopause,\n",
      "Nearest to two: three, four, five, seven, six, one, eight, zero,\n",
      "Nearest to or: and, than, a, rainbow, italic, quelled, no, but,\n",
      "Nearest to so: tansley, startling, kabila, oligopoly, increasingly, christiane, olympians, hellboy,\n",
      "Nearest to were: are, was, have, had, been, whims, be, being,\n",
      "Nearest to for: including, in, after, of, rigor, meteorological, by, psychologically,\n",
      "Nearest to been: become, be, was, were, had, already, never, avec,\n",
      "Nearest to not: never, usually, still, simply, they, also, weiss, maritimes,\n",
      "Nearest to by: clooney, ohms, when, gilbertese, with, fortified, was, anfield,\n",
      "Nearest to when: if, where, while, before, was, after, though, against,\n",
      "Nearest to only: subsequently, ddt, referees, glaucus, bilirubin, even, orf, pala,\n",
      "Nearest to often: usually, commonly, generally, typically, sometimes, also, still, there,\n",
      "Average loss at step 42000: 3.431078\n",
      "Average loss at step 44000: 3.454856\n",
      "Average loss at step 46000: 3.454256\n",
      "Average loss at step 48000: 3.347127\n",
      "Average loss at step 50000: 3.383768\n",
      "Nearest to his: her, their, its, my, your, the, complementary, exiled,\n",
      "Nearest to time: year, way, kets, point, lawmaking, period, half, day,\n",
      "Nearest to zero: five, six, eight, four, seven, nine, three, two,\n",
      "Nearest to american: highwayman, australian, french, english, canadian, british, austrian, japanese,\n",
      "Nearest to some: many, several, these, heliopause, both, various, any, most,\n",
      "Nearest to two: three, four, one, six, five, seven, eight, zero,\n",
      "Nearest to or: and, than, var, burnley, geneticist, italic, scrutiny, bryson,\n",
      "Nearest to so: then, stretched, if, papandreou, tommaso, oligopoly, kabila, startling,\n",
      "Nearest to were: are, was, have, had, those, be, chopstick, whims,\n",
      "Nearest to for: including, while, megalithic, after, scrutiny, melts, against, eroding,\n",
      "Nearest to been: become, be, was, framers, conjuring, already, never, had,\n",
      "Nearest to not: usually, never, still, they, there, contractual, actually, often,\n",
      "Nearest to by: under, through, pnv, was, with, including, surrounding, gear,\n",
      "Nearest to when: if, where, while, before, but, after, though, although,\n",
      "Nearest to only: bilirubin, subsequently, ddt, simply, colloquially, almoravids, first, previously,\n",
      "Nearest to often: usually, generally, commonly, typically, sometimes, still, now, also,\n",
      "Average loss at step 52000: 3.436122\n",
      "Average loss at step 54000: 3.425040\n",
      "Average loss at step 56000: 3.438509\n",
      "Average loss at step 58000: 3.396248\n",
      "Average loss at step 60000: 3.394440\n",
      "Nearest to his: her, their, its, my, your, the, chauvinism, hectic,\n",
      "Nearest to time: way, year, period, lawmaking, half, hippies, upsets, plaid,\n",
      "Nearest to zero: five, four, six, eight, seven, nine, three, two,\n",
      "Nearest to american: australian, highwayman, british, canadian, french, gcl, austrian, english,\n",
      "Nearest to some: many, several, these, most, any, those, all, their,\n",
      "Nearest to two: four, three, five, one, six, seven, eight, zero,\n",
      "Nearest to or: and, than, but, achille, var, cursing, emory, italic,\n",
      "Nearest to so: stretched, then, tommaso, if, hellboy, sometimes, filtration, suggests,\n",
      "Nearest to were: are, have, was, had, including, chopstick, while, those,\n",
      "Nearest to for: including, of, drumming, when, jaffna, against, if, jawaharlal,\n",
      "Nearest to been: become, be, was, were, merrick, had, conjuring, calatrava,\n",
      "Nearest to not: usually, still, never, actually, they, contractual, there, who,\n",
      "Nearest to by: pnv, through, with, under, was, kaunda, cretans, anfield,\n",
      "Nearest to when: if, while, where, although, before, though, during, until,\n",
      "Nearest to only: bilirubin, subsequently, actually, until, currently, just, taraza, otherwise,\n",
      "Nearest to often: usually, commonly, sometimes, generally, typically, also, still, widely,\n",
      "Average loss at step 62000: 3.239319\n",
      "Average loss at step 64000: 3.251191\n",
      "Average loss at step 66000: 3.404319\n",
      "Average loss at step 68000: 3.395361\n",
      "Average loss at step 70000: 3.359368\n",
      "Nearest to his: her, their, its, my, your, proposals, respite, jubilee,\n",
      "Nearest to time: year, way, period, half, upsets, kets, hippies, logistics,\n",
      "Nearest to zero: five, eight, four, six, seven, nine, three, million,\n",
      "Nearest to american: australian, british, highwayman, canadian, gcl, french, english, cosmogony,\n",
      "Nearest to some: many, several, these, all, any, various, most, both,\n",
      "Nearest to two: three, six, four, one, five, seven, eight, zero,\n",
      "Nearest to or: and, than, but, the, like, any, rainbow, while,\n",
      "Nearest to so: then, thus, stretched, sometimes, tommaso, papandreou, too, passes,\n",
      "Nearest to were: are, have, was, had, those, while, be, chopstick,\n",
      "Nearest to for: including, in, meteorological, if, dickinson, drumming, while, against,\n",
      "Nearest to been: become, be, was, were, had, merrick, gone, already,\n",
      "Nearest to not: never, usually, still, now, always, actually, simply, also,\n",
      "Nearest to by: using, through, be, pnv, from, with, when, in,\n",
      "Nearest to when: if, where, while, though, however, because, before, gbu,\n",
      "Nearest to only: actually, bilirubin, simply, grow, otherwise, always, just, not,\n",
      "Nearest to often: usually, sometimes, generally, commonly, typically, now, widely, also,\n",
      "Average loss at step 72000: 3.369590\n",
      "Average loss at step 74000: 3.343407\n",
      "Average loss at step 76000: 3.321373\n",
      "Average loss at step 78000: 3.353879\n",
      "Average loss at step 80000: 3.381302\n",
      "Nearest to his: her, their, its, my, your, the, our, claudius,\n",
      "Nearest to time: year, way, period, ien, blog, season, day, sues,\n",
      "Nearest to zero: five, six, four, seven, eight, three, nine, million,\n",
      "Nearest to american: australian, british, canadian, highwayman, french, italian, russian, european,\n",
      "Nearest to some: many, several, various, these, any, all, most, certain,\n",
      "Nearest to two: three, six, four, five, one, seven, eight, tons,\n",
      "Nearest to or: and, than, but, while, heterosexism, enfield, with, stylistic,\n",
      "Nearest to so: then, too, passes, stretched, papandreou, vignette, brentano, tommaso,\n",
      "Nearest to were: are, had, was, have, been, chopstick, although, those,\n",
      "Nearest to for: meteorological, megalithic, including, scrambled, against, pngimage, scrutiny, edit,\n",
      "Nearest to been: become, be, were, had, was, merrick, never, already,\n",
      "Nearest to not: never, still, actually, usually, now, always, they, often,\n",
      "Nearest to by: through, using, pnv, anfield, when, williams, scrolls, lusitania,\n",
      "Nearest to when: if, before, after, though, where, while, during, although,\n",
      "Nearest to only: bilirubin, criticized, until, always, actually, seq, first, almoravids,\n",
      "Nearest to often: sometimes, usually, commonly, generally, typically, now, also, still,\n",
      "Average loss at step 82000: 3.404908\n",
      "Average loss at step 84000: 3.409116\n",
      "Average loss at step 86000: 3.389449\n",
      "Average loss at step 88000: 3.352326\n",
      "Average loss at step 90000: 3.363611\n",
      "Nearest to his: her, their, its, my, your, our, the, s,\n",
      "Nearest to time: year, way, period, day, republicans, half, season, individually,\n",
      "Nearest to zero: five, seven, eight, six, four, nine, three, b,\n",
      "Nearest to american: australian, british, highwayman, canadian, french, italian, austrian, european,\n",
      "Nearest to some: many, several, these, all, any, various, both, most,\n",
      "Nearest to two: three, four, five, six, one, seven, eight, pp,\n",
      "Nearest to or: and, than, airstream, though, anomalous, but, aggressive, ratu,\n",
      "Nearest to so: too, thus, passes, stretched, tommaso, vignette, hellboy, therefore,\n",
      "Nearest to were: are, had, was, have, while, although, chopstick, nie,\n",
      "Nearest to for: including, of, against, after, when, orchards, meteorological, during,\n",
      "Nearest to been: become, be, was, merrick, already, were, had, oracular,\n",
      "Nearest to not: still, never, physically, actually, now, often, almost, generally,\n",
      "Nearest to by: under, anfield, through, when, using, without, with, clooney,\n",
      "Nearest to when: if, where, before, while, after, although, though, until,\n",
      "Nearest to only: even, actually, no, bilirubin, typological, best, normally, we,\n",
      "Nearest to often: usually, commonly, sometimes, generally, typically, now, still, widely,\n",
      "Average loss at step 92000: 3.396448\n",
      "Average loss at step 94000: 3.256559\n",
      "Average loss at step 96000: 3.360279\n",
      "Average loss at step 98000: 3.241765\n",
      "Average loss at step 100000: 3.357650\n",
      "Nearest to his: her, their, your, my, its, our, the, s,\n",
      "Nearest to time: year, way, season, throttle, kets, day, hippies, period,\n",
      "Nearest to zero: five, seven, four, eight, six, nine, two, three,\n",
      "Nearest to american: british, australian, canadian, highwayman, french, italian, japanese, gcl,\n",
      "Nearest to some: many, several, these, various, any, certain, all, numerous,\n",
      "Nearest to two: four, three, six, five, seven, eight, one, zero,\n",
      "Nearest to or: and, than, vdash, magog, aldehyde, emory, heures, enfield,\n",
      "Nearest to so: too, thus, then, therefore, stretched, sometimes, tommaso, when,\n",
      "Nearest to were: are, was, have, had, these, those, although, nie,\n",
      "Nearest to for: after, when, including, against, meteorological, during, despite, if,\n",
      "Nearest to been: become, be, was, already, recently, merrick, oracular, were,\n",
      "Nearest to not: never, still, actually, now, they, physically, often, generally,\n",
      "Nearest to by: pnv, through, when, without, under, including, using, ohms,\n",
      "Nearest to when: if, where, although, while, before, during, after, though,\n",
      "Nearest to only: even, until, phony, already, cosmos, osr, bilirubin, copyrighted,\n",
      "Nearest to often: usually, sometimes, commonly, generally, typically, frequently, now, widely,\n"
     ]
    }
   ],
   "source": [
    "num_steps = 100001\n",
    "\n",
    "with tf.Session(graph=graph) as session:\n",
    "  tf.global_variables_initializer().run()\n",
    "  print('Initialized')\n",
    "  average_loss = 0\n",
    "  for step in range(num_steps):\n",
    "    batch_data, batch_labels = generate_batch(\n",
    "      batch_size, num_skips, skip_window)\n",
    "    feed_dict = {train_dataset : batch_data, train_labels : batch_labels}\n",
    "    _, l = session.run([optimizer, loss], feed_dict=feed_dict)\n",
    "    average_loss += l\n",
    "    if step % 2000 == 0:\n",
    "      if step > 0:\n",
    "        average_loss = average_loss / 2000\n",
    "      # The average loss is an estimate of the loss over the last 2000 batches.\n",
    "      print('Average loss at step %d: %f' % (step, average_loss))\n",
    "      average_loss = 0\n",
    "    # note that this is expensive (~20% slowdown if computed every 500 steps)\n",
    "    if step % 10000 == 0:\n",
    "      sim = similarity.eval()\n",
    "      for i in range(valid_size):\n",
    "        valid_word = reverse_dictionary[valid_examples[i]]\n",
    "        top_k = 8 # number of nearest neighbors\n",
    "        nearest = (-sim[i, :]).argsort()[1:top_k+1]\n",
    "        log = 'Nearest to %s:' % valid_word\n",
    "        for k in range(top_k):\n",
    "          close_word = reverse_dictionary[nearest[k]]\n",
    "          log = '%s %s,' % (log, close_word)\n",
    "        print(log)\n",
    "  final_embeddings = normalized_embeddings.eval()"
   ]
  },
  {
   "cell_type": "code",
   "execution_count": null,
   "metadata": {
    "cellView": "both",
    "colab": {
     "autoexec": {
      "startup": false,
      "wait_interval": 0
     }
    },
    "colab_type": "code",
    "collapsed": true,
    "id": "jjJXYA_XzV79"
   },
   "outputs": [],
   "source": [
    "num_points = 400\n",
    "\n",
    "tsne = TSNE(perplexity=30, n_components=2, init='pca', n_iter=5000)\n",
    "two_d_embeddings = tsne.fit_transform(final_embeddings[1:num_points+1, :])"
   ]
  },
  {
   "cell_type": "code",
   "execution_count": 1,
   "metadata": {
    "cellView": "both",
    "colab": {
     "autoexec": {
      "startup": false,
      "wait_interval": 0
     },
     "output_extras": [
      {
       "item_id": 1
      }
     ]
    },
    "colab_type": "code",
    "collapsed": false,
    "executionInfo": {
     "elapsed": 4763,
     "status": "ok",
     "timestamp": 1445965465525,
     "user": {
      "color": "#1FA15D",
      "displayName": "Vincent Vanhoucke",
      "isAnonymous": false,
      "isMe": true,
      "permissionId": "05076109866853157986",
      "photoUrl": "//lh6.googleusercontent.com/-cCJa7dTDcgQ/AAAAAAAAAAI/AAAAAAAACgw/r2EZ_8oYer4/s50-c-k-no/photo.jpg",
      "sessionId": "2f1ffade4c9f20de",
      "userId": "102167687554210253930"
     },
     "user_tz": 420
    },
    "id": "o_e0D_UezcDe",
    "outputId": "df22e4a5-e8ec-4e5e-d384-c6cf37c68c34"
   },
   "outputs": [
    {
     "ename": "NameError",
     "evalue": "name 'num_points' is not defined",
     "output_type": "error",
     "traceback": [
      "\u001b[0;31m---------------------------------------------------------------------------\u001b[0m",
      "\u001b[0;31mNameError\u001b[0m                                 Traceback (most recent call last)",
      "\u001b[0;32m<ipython-input-1-60644b7b42e2>\u001b[0m in \u001b[0;36m<module>\u001b[0;34m()\u001b[0m\n\u001b[1;32m      9\u001b[0m   \u001b[0mpylab\u001b[0m\u001b[0;34m.\u001b[0m\u001b[0mshow\u001b[0m\u001b[0;34m(\u001b[0m\u001b[0;34m)\u001b[0m\u001b[0;34m\u001b[0m\u001b[0m\n\u001b[1;32m     10\u001b[0m \u001b[0;34m\u001b[0m\u001b[0m\n\u001b[0;32m---> 11\u001b[0;31m \u001b[0mwords\u001b[0m \u001b[0;34m=\u001b[0m \u001b[0;34m[\u001b[0m\u001b[0mreverse_dictionary\u001b[0m\u001b[0;34m[\u001b[0m\u001b[0mi\u001b[0m\u001b[0;34m]\u001b[0m \u001b[0;32mfor\u001b[0m \u001b[0mi\u001b[0m \u001b[0;32min\u001b[0m \u001b[0mrange\u001b[0m\u001b[0;34m(\u001b[0m\u001b[0;36m1\u001b[0m\u001b[0;34m,\u001b[0m \u001b[0mnum_points\u001b[0m\u001b[0;34m+\u001b[0m\u001b[0;36m1\u001b[0m\u001b[0;34m)\u001b[0m\u001b[0;34m]\u001b[0m\u001b[0;34m\u001b[0m\u001b[0m\n\u001b[0m\u001b[1;32m     12\u001b[0m \u001b[0mplot\u001b[0m\u001b[0;34m(\u001b[0m\u001b[0mtwo_d_embeddings\u001b[0m\u001b[0;34m,\u001b[0m \u001b[0mwords\u001b[0m\u001b[0;34m)\u001b[0m\u001b[0;34m\u001b[0m\u001b[0m\n",
      "\u001b[0;31mNameError\u001b[0m: name 'num_points' is not defined"
     ]
    }
   ],
   "source": [
    "def plot(embeddings, labels):\n",
    "  assert embeddings.shape[0] >= len(labels), 'More labels than embeddings'\n",
    "  pylab.figure(figsize=(15,15))  # in inches\n",
    "  for i, label in enumerate(labels):\n",
    "    x, y = embeddings[i,:]\n",
    "    pylab.scatter(x, y)\n",
    "    pylab.annotate(label, xy=(x, y), xytext=(5, 2), textcoords='offset points',\n",
    "                   ha='right', va='bottom')\n",
    "  pylab.show()\n",
    "\n",
    "words = [reverse_dictionary[i] for i in range(1, num_points+1)]\n",
    "plot(two_d_embeddings, words)"
   ]
  },
  {
   "cell_type": "markdown",
   "metadata": {
    "colab_type": "text",
    "id": "QB5EFrBnpNnc"
   },
   "source": [
    "---\n",
    "\n",
    "Problem\n",
    "-------\n",
    "\n",
    "An alternative to skip-gram is another Word2Vec model called [CBOW](http://arxiv.org/abs/1301.3781) (Continuous Bag of Words). In the CBOW model, instead of predicting a context word from a word vector, you predict a word from the sum of all the word vectors in its context. Implement and evaluate a CBOW model trained on the text8 dataset.\n",
    "\n",
    "---"
   ]
  }
 ],
 "metadata": {
  "anaconda-cloud": {},
  "colab": {
   "default_view": {},
   "name": "5_word2vec.ipynb",
   "provenance": [],
   "version": "0.3.2",
   "views": {}
  },
  "kernelspec": {
   "display_name": "Python [default]",
   "language": "python",
   "name": "python2"
  }
 },
 "nbformat": 4,
 "nbformat_minor": 0
}
